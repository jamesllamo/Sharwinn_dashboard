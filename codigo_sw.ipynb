{
 "cells": [
  {
   "attachments": {},
   "cell_type": "markdown",
   "metadata": {},
   "source": [
    "    Cargar Datos de Ventas"
   ]
  },
  {
   "cell_type": "code",
   "execution_count": 8,
   "metadata": {},
   "outputs": [],
   "source": [
    "import requests\n",
    "import pandas as pd\n",
    "import json\n",
    "\n",
    "url = 'https://www.sharwinn.com/wp-json/wc/v3/orders'                   # url\n",
    "params = {\n",
    "    'consumer_key': 'ck_e88ed88e0a1684cd729a37dee41c2a3cb503b0ec',      # CK\n",
    "    'consumer_secret': 'cs_0cc67c5057e588a91ba99b38271729baeb83dc56',   # CS\n",
    "    'per_page': 100,                                                    # número de pedidos por página\n",
    "    'meta_data': ['_yith_pos_cashier', '[P] _alg_wc_cog_cost']     # Metadata\n",
    "}\n",
    "orders = []                                                             # lista para almacenar los pedidos\n",
    "#response = requests.get(url, params=params)                             # Consulta para extraer el número de páginas\n",
    "#npages=round(int(response.headers['X-WP-Total'])/100)+1                 # Conseguimos el número de Páginas\n",
    "\n",
    "for page in range(1, 10):                                           # Ciclo For para extraer la data\n",
    "    params['page'] = page\n",
    "    response = requests.get(url, params=params)\n",
    "    orders += response.json()\n",
    "\n",
    "df_agrupada = pd.DataFrame(orders)                                               # Convertimos en DataFrame\n",
    "\n",
    "df_expanded = df_agrupada.explode('line_items')\n",
    "df_expanded = pd.concat([df_expanded.drop(['line_items'], axis=1), df_expanded['line_items'].apply(pd.Series)], axis=1)"
   ]
  },
  {
   "cell_type": "code",
   "execution_count": 9,
   "metadata": {},
   "outputs": [
    {
     "data": {
      "text/plain": [
       "(1065, 66)"
      ]
     },
     "execution_count": 9,
     "metadata": {},
     "output_type": "execute_result"
    }
   ],
   "source": [
    "df_expanded.shape"
   ]
  },
  {
   "cell_type": "code",
   "execution_count": 10,
   "metadata": {},
   "outputs": [
    {
     "name": "stderr",
     "output_type": "stream",
     "text": [
      "C:\\Users\\user\\AppData\\Local\\Temp\\ipykernel_14648\\471165115.py:4: FutureWarning: pandas.io.json.json_normalize is deprecated, use pandas.json_normalize instead.\n",
      "  df_normalized = json_normalize(df_expanded['yith_pos_data'])\n"
     ]
    }
   ],
   "source": [
    "# Dividimos la Columna yith_pos_data\n",
    "from pandas.io.json import json_normalize\n",
    "# Expande los datos de la columna 'yith_pos_data' utilizando json_normalize\n",
    "df_normalized = json_normalize(df_expanded['yith_pos_data'])\n",
    "# Concatenar\n",
    "df_expanded1=df_expanded.copy()\n",
    "df_normalized1=df_normalized.copy()\n",
    "df_expanded1 = df_expanded1.reset_index()\n",
    "df_normalized1 = df_normalized1.reset_index()\n",
    "df_combined = pd.concat([df_expanded1, df_normalized1], axis=1)"
   ]
  },
  {
   "cell_type": "code",
   "execution_count": 11,
   "metadata": {},
   "outputs": [
    {
     "data": {
      "text/plain": [
       "Index(['index', 'id', 'parent_id', 'status', 'currency', 'version',\n",
       "       'prices_include_tax', 'date_created', 'date_modified', 'discount_total',\n",
       "       'discount_tax', 'shipping_total', 'shipping_tax', 'cart_tax', 'total',\n",
       "       'total_tax', 'customer_id', 'order_key', 'billing', 'shipping',\n",
       "       'payment_method', 'payment_method_title', 'transaction_id',\n",
       "       'customer_ip_address', 'customer_user_agent', 'created_via',\n",
       "       'customer_note', 'date_completed', 'date_paid', 'cart_hash', 'number',\n",
       "       'meta_data', 'tax_lines', 'shipping_lines', 'fee_lines', 'coupon_lines',\n",
       "       'refunds', 'payment_url', 'is_editable', 'needs_payment',\n",
       "       'needs_processing', 'date_created_gmt', 'date_modified_gmt',\n",
       "       'date_completed_gmt', 'date_paid_gmt', 'currency_symbol',\n",
       "       'yith_pos_data', 'multiple_payment_methods', 'pos_payment_details',\n",
       "       '_links', 'id', 'name', 'product_id', 'variation_id', 'quantity',\n",
       "       'tax_class', 'subtotal', 'subtotal_tax', 'total', 'total_tax', 'taxes',\n",
       "       'meta_data', 'sku', 'price', 'image', 'parent_name', 'yithPosImage',\n",
       "       'index', 'store_name', 'register_name', 'cashier_name'],\n",
       "      dtype='object')"
      ]
     },
     "execution_count": 11,
     "metadata": {},
     "output_type": "execute_result"
    }
   ],
   "source": [
    "df_combined.columns"
   ]
  },
  {
   "cell_type": "code",
   "execution_count": 39,
   "metadata": {},
   "outputs": [],
   "source": [
    "df_combined.to_csv('datos.csv', index=False)"
   ]
  },
  {
   "cell_type": "code",
   "execution_count": 6,
   "metadata": {},
   "outputs": [
    {
     "ename": "NameError",
     "evalue": "name 'df_combined' is not defined",
     "output_type": "error",
     "traceback": [
      "\u001b[1;31m---------------------------------------------------------------------------\u001b[0m",
      "\u001b[1;31mNameError\u001b[0m                                 Traceback (most recent call last)",
      "\u001b[1;32mc:\\Users\\user\\Desktop\\Sharwinn_Python\\Sharwinn_dashboard\\codigo_sw.ipynb Celda 7\u001b[0m in \u001b[0;36m1\n\u001b[1;32m----> <a href='vscode-notebook-cell:/c%3A/Users/user/Desktop/Sharwinn_Python/Sharwinn_dashboard/codigo_sw.ipynb#Y100sZmlsZQ%3D%3D?line=0'>1</a>\u001b[0m df_combined\u001b[39m.\u001b[39mcolumns\n",
      "\u001b[1;31mNameError\u001b[0m: name 'df_combined' is not defined"
     ]
    }
   ],
   "source": [
    "df_combined.columns"
   ]
  },
  {
   "attachments": {},
   "cell_type": "markdown",
   "metadata": {},
   "source": [
    "    Cargar Datos de productos"
   ]
  },
  {
   "cell_type": "code",
   "execution_count": 1,
   "metadata": {},
   "outputs": [],
   "source": [
    "import requests\n",
    "import pandas as pd\n",
    "import json\n",
    "\n",
    "url = 'https://www.sharwinn.com/wp-json/wc/v3/products'                   # url\n",
    "params = {\n",
    "    'consumer_key': 'ck_e88ed88e0a1684cd729a37dee41c2a3cb503b0ec',      # CK\n",
    "    'consumer_secret': 'cs_0cc67c5057e588a91ba99b38271729baeb83dc56',   # CS\n",
    "    'per_page': 100,                                                    # número de pedidos por página\n",
    "}\n",
    "products = []                                                             # lista para almacenar los pedidos\n",
    "response = requests.get(url, params=params)                             # Consulta para extraer el número de páginas\n",
    "npages=round(int(response.headers['X-WP-Total'])/100)+2                 # Conseguimos el número de Páginas\n",
    "\n",
    "for page in range(1, 2):                                           # Ciclo For para extraer la data\n",
    "    params['page'] = page\n",
    "    response = requests.get(url, params=params)\n",
    "    products += response.json()\n",
    "\n",
    "p_agrupada = pd.DataFrame(products)                                               # Convertimos en DataFrame\n",
    "products=p_agrupada.copy()"
   ]
  },
  {
   "cell_type": "code",
   "execution_count": 2,
   "metadata": {},
   "outputs": [],
   "source": [
    "products.rename(columns={'id': 'product_id'}, inplace=True)"
   ]
  },
  {
   "cell_type": "code",
   "execution_count": 3,
   "metadata": {},
   "outputs": [],
   "source": [
    "products.to_csv('productos.csv', index=False)"
   ]
  },
  {
   "cell_type": "code",
   "execution_count": 5,
   "metadata": {},
   "outputs": [
    {
     "data": {
      "text/plain": [
       "Index(['product_id', 'name', 'slug', 'permalink', 'date_created',\n",
       "       'date_created_gmt', 'date_modified', 'date_modified_gmt', 'type',\n",
       "       'status', 'featured', 'catalog_visibility', 'description',\n",
       "       'short_description', 'sku', 'price', 'regular_price', 'sale_price',\n",
       "       'date_on_sale_from', 'date_on_sale_from_gmt', 'date_on_sale_to',\n",
       "       'date_on_sale_to_gmt', 'on_sale', 'purchasable', 'total_sales',\n",
       "       'virtual', 'downloadable', 'downloads', 'download_limit',\n",
       "       'download_expiry', 'external_url', 'button_text', 'tax_status',\n",
       "       'tax_class', 'manage_stock', 'stock_quantity', 'backorders',\n",
       "       'backorders_allowed', 'backordered', 'low_stock_amount',\n",
       "       'sold_individually', 'weight', 'dimensions', 'shipping_required',\n",
       "       'shipping_taxable', 'shipping_class', 'shipping_class_id',\n",
       "       'reviews_allowed', 'average_rating', 'rating_count', 'upsell_ids',\n",
       "       'cross_sell_ids', 'parent_id', 'purchase_note', 'categories', 'tags',\n",
       "       'images', 'attributes', 'default_attributes', 'variations',\n",
       "       'grouped_products', 'menu_order', 'price_html', 'related_ids',\n",
       "       'meta_data', 'stock_status', 'has_options',\n",
       "       'jetpack_publicize_connections', 'yoast_head', 'yoast_head_json',\n",
       "       'jetpack_sharing_enabled', 'yithPosImage', '_links'],\n",
       "      dtype='object')"
      ]
     },
     "execution_count": 5,
     "metadata": {},
     "output_type": "execute_result"
    }
   ],
   "source": [
    "products.columns"
   ]
  },
  {
   "cell_type": "code",
   "execution_count": 4,
   "metadata": {},
   "outputs": [
    {
     "data": {
      "text/html": [
       "<div>\n",
       "<style scoped>\n",
       "    .dataframe tbody tr th:only-of-type {\n",
       "        vertical-align: middle;\n",
       "    }\n",
       "\n",
       "    .dataframe tbody tr th {\n",
       "        vertical-align: top;\n",
       "    }\n",
       "\n",
       "    .dataframe thead th {\n",
       "        text-align: right;\n",
       "    }\n",
       "</style>\n",
       "<table border=\"1\" class=\"dataframe\">\n",
       "  <thead>\n",
       "    <tr style=\"text-align: right;\">\n",
       "      <th></th>\n",
       "      <th>product_id</th>\n",
       "      <th>name</th>\n",
       "      <th>slug</th>\n",
       "      <th>permalink</th>\n",
       "      <th>date_created</th>\n",
       "      <th>date_created_gmt</th>\n",
       "      <th>date_modified</th>\n",
       "      <th>date_modified_gmt</th>\n",
       "      <th>type</th>\n",
       "      <th>status</th>\n",
       "      <th>...</th>\n",
       "      <th>related_ids</th>\n",
       "      <th>meta_data</th>\n",
       "      <th>stock_status</th>\n",
       "      <th>has_options</th>\n",
       "      <th>jetpack_publicize_connections</th>\n",
       "      <th>yoast_head</th>\n",
       "      <th>yoast_head_json</th>\n",
       "      <th>jetpack_sharing_enabled</th>\n",
       "      <th>yithPosImage</th>\n",
       "      <th>_links</th>\n",
       "    </tr>\n",
       "  </thead>\n",
       "  <tbody>\n",
       "    <tr>\n",
       "      <th>0</th>\n",
       "      <td>46361</td>\n",
       "      <td>Labial Mágico en Barra</td>\n",
       "      <td>labial-magico-en-barra</td>\n",
       "      <td>https://www.sharwinn.com/producto/labial-magic...</td>\n",
       "      <td>2023-03-18T12:06:16</td>\n",
       "      <td>2023-03-18T17:06:16</td>\n",
       "      <td>2023-03-18T15:57:50</td>\n",
       "      <td>2023-03-18T20:57:50</td>\n",
       "      <td>simple</td>\n",
       "      <td>publish</td>\n",
       "      <td>...</td>\n",
       "      <td>[37220, 45199, 44321, 35986, 46192]</td>\n",
       "      <td>[{'id': 2435627, 'key': '_last_editor_used_jet...</td>\n",
       "      <td>instock</td>\n",
       "      <td>False</td>\n",
       "      <td>[]</td>\n",
       "      <td>&lt;!-- This site is optimized with the Yoast SEO...</td>\n",
       "      <td>{'title': 'Labial Mágico en Barra - Sharwinn',...</td>\n",
       "      <td>True</td>\n",
       "      <td>{'id': 46367, 'date_created': '2023-03-18T07:0...</td>\n",
       "      <td>{'self': [{'href': 'https://www.sharwinn.com/w...</td>\n",
       "    </tr>\n",
       "    <tr>\n",
       "      <th>1</th>\n",
       "      <td>46305</td>\n",
       "      <td>Juego de baño completo- 4 piezas</td>\n",
       "      <td>juego-de-bano-completo-4-piezas</td>\n",
       "      <td>https://www.sharwinn.com/producto/juego-de-ban...</td>\n",
       "      <td>2023-03-16T16:58:47</td>\n",
       "      <td>2023-03-16T21:58:47</td>\n",
       "      <td>2023-03-16T17:11:47</td>\n",
       "      <td>2023-03-16T22:11:47</td>\n",
       "      <td>simple</td>\n",
       "      <td>publish</td>\n",
       "      <td>...</td>\n",
       "      <td>[31811, 30848, 32906, 28110, 29449]</td>\n",
       "      <td>[{'id': 2433196, 'key': '_last_editor_used_jet...</td>\n",
       "      <td>instock</td>\n",
       "      <td>False</td>\n",
       "      <td>[]</td>\n",
       "      <td>&lt;!-- This site is optimized with the Yoast SEO...</td>\n",
       "      <td>{'title': 'Juego de baño completo- 4 piezas - ...</td>\n",
       "      <td>True</td>\n",
       "      <td>{'id': 46308, 'date_created': '2023-03-16T10:5...</td>\n",
       "      <td>{'self': [{'href': 'https://www.sharwinn.com/w...</td>\n",
       "    </tr>\n",
       "  </tbody>\n",
       "</table>\n",
       "<p>2 rows × 73 columns</p>\n",
       "</div>"
      ],
      "text/plain": [
       "   product_id                              name  \\\n",
       "0       46361            Labial Mágico en Barra   \n",
       "1       46305  Juego de baño completo- 4 piezas   \n",
       "\n",
       "                              slug  \\\n",
       "0           labial-magico-en-barra   \n",
       "1  juego-de-bano-completo-4-piezas   \n",
       "\n",
       "                                           permalink         date_created  \\\n",
       "0  https://www.sharwinn.com/producto/labial-magic...  2023-03-18T12:06:16   \n",
       "1  https://www.sharwinn.com/producto/juego-de-ban...  2023-03-16T16:58:47   \n",
       "\n",
       "      date_created_gmt        date_modified    date_modified_gmt    type  \\\n",
       "0  2023-03-18T17:06:16  2023-03-18T15:57:50  2023-03-18T20:57:50  simple   \n",
       "1  2023-03-16T21:58:47  2023-03-16T17:11:47  2023-03-16T22:11:47  simple   \n",
       "\n",
       "    status  ...                          related_ids  \\\n",
       "0  publish  ...  [37220, 45199, 44321, 35986, 46192]   \n",
       "1  publish  ...  [31811, 30848, 32906, 28110, 29449]   \n",
       "\n",
       "                                           meta_data stock_status has_options  \\\n",
       "0  [{'id': 2435627, 'key': '_last_editor_used_jet...      instock       False   \n",
       "1  [{'id': 2433196, 'key': '_last_editor_used_jet...      instock       False   \n",
       "\n",
       "  jetpack_publicize_connections  \\\n",
       "0                            []   \n",
       "1                            []   \n",
       "\n",
       "                                          yoast_head  \\\n",
       "0  <!-- This site is optimized with the Yoast SEO...   \n",
       "1  <!-- This site is optimized with the Yoast SEO...   \n",
       "\n",
       "                                     yoast_head_json jetpack_sharing_enabled  \\\n",
       "0  {'title': 'Labial Mágico en Barra - Sharwinn',...                    True   \n",
       "1  {'title': 'Juego de baño completo- 4 piezas - ...                    True   \n",
       "\n",
       "                                        yithPosImage  \\\n",
       "0  {'id': 46367, 'date_created': '2023-03-18T07:0...   \n",
       "1  {'id': 46308, 'date_created': '2023-03-16T10:5...   \n",
       "\n",
       "                                              _links  \n",
       "0  {'self': [{'href': 'https://www.sharwinn.com/w...  \n",
       "1  {'self': [{'href': 'https://www.sharwinn.com/w...  \n",
       "\n",
       "[2 rows x 73 columns]"
      ]
     },
     "execution_count": 4,
     "metadata": {},
     "output_type": "execute_result"
    }
   ],
   "source": [
    "products.head(2)"
   ]
  },
  {
   "attachments": {},
   "cell_type": "markdown",
   "metadata": {},
   "source": [
    "# EDA Solo Plataformas"
   ]
  },
  {
   "cell_type": "code",
   "execution_count": 36,
   "metadata": {},
   "outputs": [],
   "source": [
    "data = pd.read_csv('datos.csv')              # Levantar la tabla guardada\n",
    "productos = pd.read_csv('productos.csv')     # Levantar la tabla guardada"
   ]
  },
  {
   "cell_type": "code",
   "execution_count": 37,
   "metadata": {},
   "outputs": [],
   "source": [
    "# Eliminar columnas inútiles\n",
    "data.drop(['version',\n",
    "       'order_key', 'billing', 'shipping',\n",
    "       'payment_method', 'transaction_id',\n",
    "       'customer_ip_address', 'customer_user_agent', 'created_via',\n",
    "       'customer_note', 'date_completed', 'cart_hash', 'number',\n",
    "       'meta_data', 'tax_lines', 'shipping_lines', 'fee_lines', 'coupon_lines',\n",
    "       'refunds', 'payment_url', 'is_editable', 'needs_payment',\n",
    "       'needs_processing', 'date_created_gmt', 'date_modified_gmt',\n",
    "       'date_completed_gmt', 'date_paid_gmt', 'currency_symbol',\n",
    "       'multiple_payment_methods', 'pos_payment_details',\n",
    "       '_links', 'taxes', 'meta_data.1', 'sku', 'price', 'image', 'parent_name',\n",
    "       'yithPosImage','yith_pos_data'], axis=1, inplace=True)\n"
   ]
  },
  {
   "cell_type": "code",
   "execution_count": 38,
   "metadata": {},
   "outputs": [],
   "source": [
    "# Convertir la columna date_created en un objeto datetime\n",
    "data['date_created'] = pd.to_datetime(data['date_created'])\n",
    "data['date_modified'] = pd.to_datetime(data['date_modified'])\n",
    "data['date_paid'] = pd.to_datetime(data['date_paid'])"
   ]
  },
  {
   "cell_type": "code",
   "execution_count": 39,
   "metadata": {},
   "outputs": [],
   "source": [
    "# Formatear la columna date_created en YYYY-MM-DD\n",
    "data['date_created'] = data['date_created'].apply(lambda x: datetime.strftime(x, '%Y-%m-%d'))\n",
    "data['date_modified'] = data['date_modified'].apply(lambda x: datetime.strftime(x, '%Y-%m-%d'))\n",
    "#data['date_paid'] = data['date_paid'].apply(lambda x: datetime.strftime(x, '%Y-%m-%d'))"
   ]
  },
  {
   "cell_type": "code",
   "execution_count": 40,
   "metadata": {},
   "outputs": [],
   "source": [
    "# Convertir la columna date_created en un objeto datetime\n",
    "productos['date_created'] = pd.to_datetime(productos['date_created'])\n",
    "productos['date_modified'] = pd.to_datetime(productos['date_modified'])\n",
    "\n",
    "# Formatear la columna date_created en YYYY-MM-DD\n",
    "productos['date_created'] = productos['date_created'].apply(lambda x: datetime.strftime(x, '%Y-%m-%d'))\n",
    "productos['date_modified'] = productos['date_modified'].apply(lambda x: datetime.strftime(x, '%Y-%m-%d'))"
   ]
  },
  {
   "attachments": {},
   "cell_type": "markdown",
   "metadata": {},
   "source": [
    "# 'PLATAFORMAS'"
   ]
  },
  {
   "cell_type": "code",
   "execution_count": 41,
   "metadata": {},
   "outputs": [],
   "source": [
    "data['register_name'] = data['register_name'].fillna('') # Rellenar valores faltantes con cadena vacía\n",
    "df_mkp = data[data['register_name'].str.contains('Caja 2')]\n"
   ]
  },
  {
   "cell_type": "code",
   "execution_count": 42,
   "metadata": {},
   "outputs": [],
   "source": [
    "# Concatenar tablas\n",
    "data_mkp=pd.merge(df_mkp, productos, on='product_id')"
   ]
  },
  {
   "cell_type": "code",
   "execution_count": 43,
   "metadata": {},
   "outputs": [],
   "source": [
    "data_mkp.to_csv('data_mkp.csv', index=False)"
   ]
  },
  {
   "attachments": {},
   "cell_type": "markdown",
   "metadata": {},
   "source": [
    "-------------------------"
   ]
  },
  {
   "attachments": {},
   "cell_type": "markdown",
   "metadata": {},
   "source": [
    "### Rotación y última venta"
   ]
  },
  {
   "cell_type": "code",
   "execution_count": 44,
   "metadata": {},
   "outputs": [],
   "source": [
    "import pandas as pd\n",
    "import matplotlib.pyplot as plt\n",
    "import seaborn as sns\n",
    "from datetime import datetime\n",
    "data_mkp = pd.read_csv('data_mkp.csv')              # Levantar la tabla guardada\n",
    "data_aux = pd.read_csv('datos.csv')"
   ]
  },
  {
   "attachments": {},
   "cell_type": "markdown",
   "metadata": {},
   "source": [
    "    primera venta"
   ]
  },
  {
   "cell_type": "code",
   "execution_count": 45,
   "metadata": {},
   "outputs": [
    {
     "name": "stdout",
     "output_type": "stream",
     "text": [
      "(246, 2)\n",
      "(246, 2)\n"
     ]
    }
   ],
   "source": [
    "# Primera venta desde su lanzamiento\n",
    "primer_venta=data_mkp.copy()\n",
    "# Se agrupa por id_producto y se aplica la función de agregación min() a la columna venta\n",
    "FV_fecha_venta= primer_venta.groupby('product_id')['date_created_x'].agg(min).reset_index(name='Fecha_Primera_Venta')\n",
    "FV_fecha_Creacion= primer_venta.groupby('product_id')['date_created_y'].agg(min).reset_index(name='Fecha_Creacion_producto')\n",
    "# Unir los dataframe resultantes\n",
    "primer_venta_fechas=pd.merge(FV_fecha_venta, FV_fecha_Creacion, on='product_id')"
   ]
  },
  {
   "cell_type": "code",
   "execution_count": 46,
   "metadata": {},
   "outputs": [],
   "source": [
    "# Convertir la columna date_created en un objeto datetime\n",
    "primer_venta_fechas['Fecha_Primera_Venta'] = pd.to_datetime(primer_venta_fechas['Fecha_Primera_Venta'])\n",
    "primer_venta_fechas['Fecha_Creacion_producto'] = pd.to_datetime(primer_venta_fechas['Fecha_Creacion_producto'])"
   ]
  },
  {
   "cell_type": "code",
   "execution_count": 67,
   "metadata": {},
   "outputs": [],
   "source": [
    "# Juntamos todos los rangos\n",
    "primer_venta_fechas['diferencia_en_dias'] = (primer_venta_fechas['Fecha_Primera_Venta'] - primer_venta_fechas['Fecha_Creacion_producto']).dt.days\n",
    "primer_venta_fechas_sorted=primer_venta_fechas.sort_values('diferencia_en_dias', ascending=True)\n",
    "primer_venta_fechas_nombre = data_mkp.loc[:, ['product_id', 'name_y']]\n",
    "df_sin_duplicados = primer_venta_fechas_nombre.drop_duplicates(subset=['product_id'])\n",
    "\n",
    "primer_venta_completado=pd.merge(primer_venta_fechas_sorted, df_sin_duplicados, on='product_id')"
   ]
  },
  {
   "cell_type": "code",
   "execution_count": null,
   "metadata": {},
   "outputs": [],
   "source": [
    "primer_venta_completado.loc[primer_venta_completado['diferencia_en_dias'] <=6]\n"
   ]
  },
  {
   "cell_type": "code",
   "execution_count": 81,
   "metadata": {},
   "outputs": [
    {
     "data": {
      "text/html": [
       "<div>\n",
       "<style scoped>\n",
       "    .dataframe tbody tr th:only-of-type {\n",
       "        vertical-align: middle;\n",
       "    }\n",
       "\n",
       "    .dataframe tbody tr th {\n",
       "        vertical-align: top;\n",
       "    }\n",
       "\n",
       "    .dataframe thead th {\n",
       "        text-align: right;\n",
       "    }\n",
       "</style>\n",
       "<table border=\"1\" class=\"dataframe\">\n",
       "  <thead>\n",
       "    <tr style=\"text-align: right;\">\n",
       "      <th></th>\n",
       "      <th>product_id</th>\n",
       "      <th>diferencia_en_dias</th>\n",
       "      <th>name_y</th>\n",
       "      <th>precio_promedio</th>\n",
       "    </tr>\n",
       "  </thead>\n",
       "  <tbody>\n",
       "    <tr>\n",
       "      <th>0</th>\n",
       "      <td>44381</td>\n",
       "      <td>0</td>\n",
       "      <td>Rallador de frutas y verduras</td>\n",
       "      <td>30.494000</td>\n",
       "    </tr>\n",
       "    <tr>\n",
       "      <th>1</th>\n",
       "      <td>44170</td>\n",
       "      <td>0</td>\n",
       "      <td>Cinta métrica Kawai</td>\n",
       "      <td>12.481250</td>\n",
       "    </tr>\n",
       "    <tr>\n",
       "      <th>2</th>\n",
       "      <td>41666</td>\n",
       "      <td>0</td>\n",
       "      <td>Mini Tenedores - acero inoxidable</td>\n",
       "      <td>16.950000</td>\n",
       "    </tr>\n",
       "    <tr>\n",
       "      <th>3</th>\n",
       "      <td>44107</td>\n",
       "      <td>0</td>\n",
       "      <td>Organizador de Toallas Higénicas</td>\n",
       "      <td>16.948333</td>\n",
       "    </tr>\n",
       "    <tr>\n",
       "      <th>4</th>\n",
       "      <td>41196</td>\n",
       "      <td>0</td>\n",
       "      <td>Tomatodo kawaii diseño lazo</td>\n",
       "      <td>4.968333</td>\n",
       "    </tr>\n",
       "    <tr>\n",
       "      <th>...</th>\n",
       "      <td>...</td>\n",
       "      <td>...</td>\n",
       "      <td>...</td>\n",
       "      <td>...</td>\n",
       "    </tr>\n",
       "    <tr>\n",
       "      <th>241</th>\n",
       "      <td>29440</td>\n",
       "      <td>554</td>\n",
       "      <td>Rompe Chorro</td>\n",
       "      <td>12.072500</td>\n",
       "    </tr>\n",
       "    <tr>\n",
       "      <th>242</th>\n",
       "      <td>28121</td>\n",
       "      <td>571</td>\n",
       "      <td>Filtro De Lavadora</td>\n",
       "      <td>10.170000</td>\n",
       "    </tr>\n",
       "    <tr>\n",
       "      <th>243</th>\n",
       "      <td>29443</td>\n",
       "      <td>684</td>\n",
       "      <td>Balanza Digital Gramera</td>\n",
       "      <td>14.457500</td>\n",
       "    </tr>\n",
       "    <tr>\n",
       "      <th>244</th>\n",
       "      <td>28110</td>\n",
       "      <td>730</td>\n",
       "      <td>Mini Plancha De Cabello</td>\n",
       "      <td>8.310000</td>\n",
       "    </tr>\n",
       "    <tr>\n",
       "      <th>245</th>\n",
       "      <td>27995</td>\n",
       "      <td>784</td>\n",
       "      <td>Licuadora Portátil</td>\n",
       "      <td>25.638889</td>\n",
       "    </tr>\n",
       "  </tbody>\n",
       "</table>\n",
       "<p>246 rows × 4 columns</p>\n",
       "</div>"
      ],
      "text/plain": [
       "     product_id  diferencia_en_dias                             name_y  \\\n",
       "0         44381                   0      Rallador de frutas y verduras   \n",
       "1         44170                   0                Cinta métrica Kawai   \n",
       "2         41666                   0  Mini Tenedores - acero inoxidable   \n",
       "3         44107                   0   Organizador de Toallas Higénicas   \n",
       "4         41196                   0        Tomatodo kawaii diseño lazo   \n",
       "..          ...                 ...                                ...   \n",
       "241       29440                 554                       Rompe Chorro   \n",
       "242       28121                 571                 Filtro De Lavadora   \n",
       "243       29443                 684            Balanza Digital Gramera   \n",
       "244       28110                 730            Mini Plancha De Cabello   \n",
       "245       27995                 784                 Licuadora Portátil   \n",
       "\n",
       "     precio_promedio  \n",
       "0          30.494000  \n",
       "1          12.481250  \n",
       "2          16.950000  \n",
       "3          16.948333  \n",
       "4           4.968333  \n",
       "..               ...  \n",
       "241        12.072500  \n",
       "242        10.170000  \n",
       "243        14.457500  \n",
       "244         8.310000  \n",
       "245        25.638889  \n",
       "\n",
       "[246 rows x 4 columns]"
      ]
     },
     "execution_count": 81,
     "metadata": {},
     "output_type": "execute_result"
    }
   ],
   "source": [
    "# Graficar por Precio de venta\n",
    "precio_promedio_id= data_mkp.groupby('product_id')['subtotal'].mean().reset_index(name='precio_promedio')\n",
    "precio_promedio=pd.merge(primer_venta_completado, precio_promedio_id, on='product_id')\n",
    "precio_promedio"
   ]
  },
  {
   "cell_type": "code",
   "execution_count": 82,
   "metadata": {},
   "outputs": [
    {
     "data": {
      "image/png": "[encoded data removed]",
      "text/plain": [
       "<Figure size 640x480 with 1 Axes>"
      ]
     },
     "metadata": {},
     "output_type": "display_data"
    }
   ],
   "source": [
    "# Crear gráfico de dispersión\n",
    "sns.scatterplot(x=\"diferencia_en_dias\", y=\"precio_promedio\", data=precio_promedio)\n",
    "# Mostrar gráfico\n",
    "plt.show()\n"
   ]
  },
  {
   "attachments": {},
   "cell_type": "markdown",
   "metadata": {},
   "source": [
    "_______________"
   ]
  },
  {
   "cell_type": "code",
   "execution_count": 50,
   "metadata": {},
   "outputs": [
    {
     "data": {
      "image/png": "[encoded data removed]",
      "text/plain": [
       "<Figure size 640x480 with 1 Axes>"
      ]
     },
     "metadata": {},
     "output_type": "display_data"
    }
   ],
   "source": [
    "datos = [5, 2, 7, 8, 2, 9]\n",
    "filas = [\"Fila 1\", \"Fila 2\", \"Fila 3\", \"Fila 4\", \"Fila 5\", \"Fila 6\"]\n",
    "plt.bar(filas, datos, color=\"red\", edgecolor=\"black\")\n",
    "plt.title(\"Gráfico de filas\")\n",
    "plt.xlabel(\"Filas\")\n",
    "plt.ylabel(\"Valores\")\n",
    "plt.show()\n"
   ]
  },
  {
   "attachments": {},
   "cell_type": "markdown",
   "metadata": {},
   "source": [
    "__________________________________"
   ]
  },
  {
   "attachments": {},
   "cell_type": "markdown",
   "metadata": {},
   "source": [
    "    última venta"
   ]
  },
  {
   "cell_type": "code",
   "execution_count": 51,
   "metadata": {},
   "outputs": [
    {
     "name": "stdout",
     "output_type": "stream",
     "text": [
      "(246, 2)\n",
      "(246, 2)\n"
     ]
    }
   ],
   "source": [
    "# Primera venta desde su lanzamiento\n",
    "ultima_venta=data_mkp.copy()\n",
    "# Se agrupa por id_producto y se aplica la función de agregación min() a la columna venta\n",
    "UV_fecha_venta= ultima_venta.groupby('product_id')['date_created_x'].agg(min).reset_index(name='Fecha_Primera_Venta')\n",
    "print(FV_fecha_venta.shape)\n",
    "\n",
    "FV_fecha_Creacion= ultima_venta.groupby('product_id')['date_created_y'].agg(min).reset_index(name='Fecha_Creacion_producto')\n",
    "print(FV_fecha_Creacion.shape)\n",
    "# Unir los dataframe resultantes\n",
    "primer_venta_fechas=pd.merge(FV_fecha_venta, FV_fecha_Creacion, on='product_id')"
   ]
  },
  {
   "cell_type": "code",
   "execution_count": 52,
   "metadata": {},
   "outputs": [],
   "source": [
    "# Convertir la columna date_created en un objeto datetime\n",
    "primer_venta_fechas['Fecha_Primera_Venta'] = pd.to_datetime(primer_venta_fechas['Fecha_Primera_Venta'])\n",
    "primer_venta_fechas['Fecha_Creacion_producto'] = pd.to_datetime(primer_venta_fechas['Fecha_Creacion_producto'])"
   ]
  },
  {
   "cell_type": "code",
   "execution_count": 53,
   "metadata": {},
   "outputs": [],
   "source": [
    "primer_venta_fechas['diferencia_en_dias'] = (primer_venta_fechas['Fecha_Primera_Venta'] - primer_venta_fechas['Fecha_Creacion_producto']).dt.days\n",
    "primer_venta_fechas_sorted=primer_venta_fechas.sort_values('diferencia_en_dias', ascending=True)"
   ]
  },
  {
   "cell_type": "code",
   "execution_count": 54,
   "metadata": {},
   "outputs": [
    {
     "data": {
      "text/html": [
       "<div>\n",
       "<style scoped>\n",
       "    .dataframe tbody tr th:only-of-type {\n",
       "        vertical-align: middle;\n",
       "    }\n",
       "\n",
       "    .dataframe tbody tr th {\n",
       "        vertical-align: top;\n",
       "    }\n",
       "\n",
       "    .dataframe thead th {\n",
       "        text-align: right;\n",
       "    }\n",
       "</style>\n",
       "<table border=\"1\" class=\"dataframe\">\n",
       "  <thead>\n",
       "    <tr style=\"text-align: right;\">\n",
       "      <th></th>\n",
       "      <th>product_id</th>\n",
       "      <th>Fecha_Primera_Venta</th>\n",
       "      <th>Fecha_Creacion_producto</th>\n",
       "      <th>diferencia_en_dias</th>\n",
       "    </tr>\n",
       "  </thead>\n",
       "  <tbody>\n",
       "    <tr>\n",
       "      <th>214</th>\n",
       "      <td>44381</td>\n",
       "      <td>2023-01-16</td>\n",
       "      <td>2023-01-16</td>\n",
       "      <td>0</td>\n",
       "    </tr>\n",
       "    <tr>\n",
       "      <th>205</th>\n",
       "      <td>44170</td>\n",
       "      <td>2023-01-11</td>\n",
       "      <td>2023-01-11</td>\n",
       "      <td>0</td>\n",
       "    </tr>\n",
       "    <tr>\n",
       "      <th>169</th>\n",
       "      <td>41666</td>\n",
       "      <td>2022-11-07</td>\n",
       "      <td>2022-11-07</td>\n",
       "      <td>0</td>\n",
       "    </tr>\n",
       "    <tr>\n",
       "      <th>204</th>\n",
       "      <td>44107</td>\n",
       "      <td>2023-01-10</td>\n",
       "      <td>2023-01-10</td>\n",
       "      <td>0</td>\n",
       "    </tr>\n",
       "    <tr>\n",
       "      <th>159</th>\n",
       "      <td>41196</td>\n",
       "      <td>2022-10-20</td>\n",
       "      <td>2022-10-20</td>\n",
       "      <td>0</td>\n",
       "    </tr>\n",
       "    <tr>\n",
       "      <th>...</th>\n",
       "      <td>...</td>\n",
       "      <td>...</td>\n",
       "      <td>...</td>\n",
       "      <td>...</td>\n",
       "    </tr>\n",
       "    <tr>\n",
       "      <th>3</th>\n",
       "      <td>29440</td>\n",
       "      <td>2022-10-18</td>\n",
       "      <td>2021-04-12</td>\n",
       "      <td>554</td>\n",
       "    </tr>\n",
       "    <tr>\n",
       "      <th>2</th>\n",
       "      <td>28121</td>\n",
       "      <td>2022-08-01</td>\n",
       "      <td>2021-01-07</td>\n",
       "      <td>571</td>\n",
       "    </tr>\n",
       "    <tr>\n",
       "      <th>4</th>\n",
       "      <td>29443</td>\n",
       "      <td>2023-02-25</td>\n",
       "      <td>2021-04-12</td>\n",
       "      <td>684</td>\n",
       "    </tr>\n",
       "    <tr>\n",
       "      <th>1</th>\n",
       "      <td>28110</td>\n",
       "      <td>2023-01-06</td>\n",
       "      <td>2021-01-06</td>\n",
       "      <td>730</td>\n",
       "    </tr>\n",
       "    <tr>\n",
       "      <th>0</th>\n",
       "      <td>27995</td>\n",
       "      <td>2023-02-02</td>\n",
       "      <td>2020-12-10</td>\n",
       "      <td>784</td>\n",
       "    </tr>\n",
       "  </tbody>\n",
       "</table>\n",
       "<p>246 rows × 4 columns</p>\n",
       "</div>"
      ],
      "text/plain": [
       "     product_id Fecha_Primera_Venta Fecha_Creacion_producto  \\\n",
       "214       44381          2023-01-16              2023-01-16   \n",
       "205       44170          2023-01-11              2023-01-11   \n",
       "169       41666          2022-11-07              2022-11-07   \n",
       "204       44107          2023-01-10              2023-01-10   \n",
       "159       41196          2022-10-20              2022-10-20   \n",
       "..          ...                 ...                     ...   \n",
       "3         29440          2022-10-18              2021-04-12   \n",
       "2         28121          2022-08-01              2021-01-07   \n",
       "4         29443          2023-02-25              2021-04-12   \n",
       "1         28110          2023-01-06              2021-01-06   \n",
       "0         27995          2023-02-02              2020-12-10   \n",
       "\n",
       "     diferencia_en_dias  \n",
       "214                   0  \n",
       "205                   0  \n",
       "169                   0  \n",
       "204                   0  \n",
       "159                   0  \n",
       "..                  ...  \n",
       "3                   554  \n",
       "2                   571  \n",
       "4                   684  \n",
       "1                   730  \n",
       "0                   784  \n",
       "\n",
       "[246 rows x 4 columns]"
      ]
     },
     "execution_count": 54,
     "metadata": {},
     "output_type": "execute_result"
    }
   ],
   "source": [
    "primer_venta_fechas_sorted"
   ]
  },
  {
   "cell_type": "code",
   "execution_count": 55,
   "metadata": {},
   "outputs": [],
   "source": [
    "# Eliminar columnas inútiles\n",
    "primer_venta_fechas_sorted.drop(['Fecha_Primera_Venta', 'Fecha_Creacion_producto'], axis=1, inplace=True)"
   ]
  },
  {
   "cell_type": "code",
   "execution_count": 56,
   "metadata": {},
   "outputs": [],
   "source": [
    "#tiempo_desde_ultima_venta\n"
   ]
  },
  {
   "attachments": {},
   "cell_type": "markdown",
   "metadata": {},
   "source": [
    "    Unión"
   ]
  },
  {
   "cell_type": "code",
   "execution_count": 57,
   "metadata": {},
   "outputs": [],
   "source": [
    "#primer_ultima_venta=pd.merge(primer_venta_fechas_sorted, , on='product_id')"
   ]
  },
  {
   "cell_type": "code",
   "execution_count": 58,
   "metadata": {},
   "outputs": [
    {
     "ename": "NameError",
     "evalue": "name 'primer_ultima_venta' is not defined",
     "output_type": "error",
     "traceback": [
      "\u001b[1;31m---------------------------------------------------------------------------\u001b[0m",
      "\u001b[1;31mNameError\u001b[0m                                 Traceback (most recent call last)",
      "Cell \u001b[1;32mIn[58], line 2\u001b[0m\n\u001b[0;32m      1\u001b[0m \u001b[39m# Agreamos los nombres de los productos\u001b[39;00m\n\u001b[1;32m----> 2\u001b[0m primer_ultima_venta[\u001b[39m\"\u001b[39m\u001b[39mnombre_producto\u001b[39m\u001b[39m\"\u001b[39m]\u001b[39m=\u001b[39mdata_mkp[\u001b[39m\"\u001b[39m\u001b[39mname_y\u001b[39m\u001b[39m\"\u001b[39m]\n\u001b[0;32m      3\u001b[0m \u001b[39m# Agreamos la Categoría\u001b[39;00m\n\u001b[0;32m      4\u001b[0m primer_ultima_venta[\u001b[39m\"\u001b[39m\u001b[39mcategoria\u001b[39m\u001b[39m\"\u001b[39m]\u001b[39m=\u001b[39mdata_mkp[\u001b[39m\"\u001b[39m\u001b[39mname_y\u001b[39m\u001b[39m\"\u001b[39m]\n",
      "\u001b[1;31mNameError\u001b[0m: name 'primer_ultima_venta' is not defined"
     ]
    }
   ],
   "source": [
    "\n",
    "# Agreamos los nombres de los productos\n",
    "primer_ultima_venta[\"nombre_producto\"]=data_mkp[\"name_y\"]\n",
    "# Agreamos la Categoría\n",
    "primer_ultima_venta[\"categoria\"]=data_mkp[\"name_y\"]\n",
    "# Agreamos cantidad vendida\n",
    "primer_ultima_venta[\"costo\"]=data_mkp[\"name_y\"]\n",
    "# Agreamos stock\n",
    "primer_ultima_venta[\"stock\"]=data_mkp[\"name_y\"]\n",
    "# Agreamos Precio\n",
    "primer_ultima_venta[\"precio_venta\"]=data_mkp[\"name_y\"]\n",
    "# Agreamos nombre de plataforma\n",
    "primer_ultima_venta[\"plataforma\"]=data_mkp[\"name_y\"]"
   ]
  },
  {
   "attachments": {},
   "cell_type": "markdown",
   "metadata": {},
   "source": [
    "    Más vendidos"
   ]
  },
  {
   "cell_type": "code",
   "execution_count": null,
   "metadata": {},
   "outputs": [],
   "source": [
    "sales_by_product = data_mkp.groupby('product_id')['quantity'].sum().reset_index(name='quantity_sold')\n",
    "sales_by_product_sorted=sales_by_product.sort_values('quantity_sold', ascending=False)\n",
    "sales_by_product_sorted.head(10)\n"
   ]
  }
 ],
 "metadata": {
  "kernelspec": {
   "display_name": "Python 3",
   "language": "python",
   "name": "python3"
  },
  "language_info": {
   "codemirror_mode": {
    "name": "ipython",
    "version": 3
   },
   "file_extension": ".py",
   "mimetype": "text/x-python",
   "name": "python",
   "nbconvert_exporter": "python",
   "pygments_lexer": "ipython3",
   "version": "3.10.7"
  },
  "orig_nbformat": 4,
  "vscode": {
   "interpreter": {
    "hash": "fb4569285eef3a3450cb62085a5b1e0da4bce0af555edc33dcf29baf3acc1368"
   }
  }
 },
 "nbformat": 4,
 "nbformat_minor": 2
}
