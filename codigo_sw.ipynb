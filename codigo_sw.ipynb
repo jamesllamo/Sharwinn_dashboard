{
 "cells": [
  {
   "attachments": {},
   "cell_type": "markdown",
   "metadata": {},
   "source": [
    "    Cargar Datos de Ventas"
   ]
  },
  {
   "cell_type": "code",
   "execution_count": 2,
   "metadata": {},
   "outputs": [],
   "source": [
    "# Hola"
   ]
  },
  {
   "cell_type": "code",
   "execution_count": 3,
   "metadata": {},
   "outputs": [],
   "source": [
    "import requests\n",
    "import pandas as pd\n",
    "import json\n",
    "\n",
    "url = 'https://www.sharwinn.com/wp-json/wc/v3/orders'                   # url\n",
    "params = {\n",
    "    'consumer_key': 'ck_e88ed88e0a1684cd729a37dee41c2a3cb503b0ec',      # CK\n",
    "    'consumer_secret': 'cs_0cc67c5057e588a91ba99b38271729baeb83dc56',   # CS\n",
    "    'per_page': 100,                                                    # número de pedidos por página\n",
    "    'meta_data': ['_yith_pos_cashier', '[P] _alg_wc_cog_cost']     # Metadata\n",
    "}\n",
    "orders = []                                                             # lista para almacenar los pedidos\n",
    "response = requests.get(url, params=params)                             # Consulta para extraer el número de páginas\n",
    "npages=round(int(response.headers['X-WP-Total'])/100)+1                 # Conseguimos el número de Páginas\n",
    "\n",
    "for page in range(1, npages):                                           # Ciclo For para extraer la data\n",
    "    params['page'] = page\n",
    "    response = requests.get(url, params=params)\n",
    "    orders += response.json()\n",
    "\n",
    "df_agrupada = pd.DataFrame(orders)                                               # Convertimos en DataFrame\n",
    "\n",
    "df_expanded = df_agrupada.explode('line_items')\n",
    "df_expanded = pd.concat([df_expanded.drop(['line_items'], axis=1), df_expanded['line_items'].apply(pd.Series)], axis=1)"
   ]
  },
  {
   "cell_type": "code",
   "execution_count": 4,
   "metadata": {},
   "outputs": [
    {
     "name": "stderr",
     "output_type": "stream",
     "text": [
      "C:\\Users\\user\\AppData\\Local\\Temp\\ipykernel_11876\\471165115.py:4: FutureWarning: pandas.io.json.json_normalize is deprecated, use pandas.json_normalize instead.\n",
      "  df_normalized = json_normalize(df_expanded['yith_pos_data'])\n"
     ]
    }
   ],
   "source": [
    "# Dividimos la Columna yith_pos_data\n",
    "from pandas.io.json import json_normalize\n",
    "# Expande los datos de la columna 'yith_pos_data' utilizando json_normalize\n",
    "df_normalized = json_normalize(df_expanded['yith_pos_data'])\n",
    "# Concatenar\n",
    "df_expanded1=df_expanded.copy()\n",
    "df_normalized1=df_normalized.copy()\n",
    "df_expanded1 = df_expanded1.reset_index()\n",
    "df_normalized1 = df_normalized1.reset_index()\n",
    "df_combined = pd.concat([df_expanded1, df_normalized1], axis=1)"
   ]
  },
  {
   "cell_type": "code",
   "execution_count": 5,
   "metadata": {},
   "outputs": [],
   "source": [
    "df_combined.to_csv('datos.csv', index=False)"
   ]
  },
  {
   "attachments": {},
   "cell_type": "markdown",
   "metadata": {},
   "source": [
    "    Cargar Datos de productos"
   ]
  },
  {
   "cell_type": "code",
   "execution_count": 6,
   "metadata": {},
   "outputs": [],
   "source": [
    "import requests\n",
    "import pandas as pd\n",
    "import json\n",
    "\n",
    "url = 'https://www.sharwinn.com/wp-json/wc/v3/products'                   # url\n",
    "params = {\n",
    "    'consumer_key': 'ck_e88ed88e0a1684cd729a37dee41c2a3cb503b0ec',      # CK\n",
    "    'consumer_secret': 'cs_0cc67c5057e588a91ba99b38271729baeb83dc56',   # CS\n",
    "    'per_page': 100,                                                    # número de pedidos por página\n",
    "}\n",
    "products = []                                                             # lista para almacenar los pedidos\n",
    "response = requests.get(url, params=params)                             # Consulta para extraer el número de páginas\n",
    "npages=round(int(response.headers['X-WP-Total'])/100)+2                 # Conseguimos el número de Páginas\n",
    "\n",
    "for page in range(1, npages):                                           # Ciclo For para extraer la data\n",
    "    params['page'] = page\n",
    "    response = requests.get(url, params=params)\n",
    "    products += response.json()\n",
    "\n",
    "p_agrupada = pd.DataFrame(products)                                               # Convertimos en DataFrame\n",
    "productos=p_agrupada.copy()"
   ]
  },
  {
   "cell_type": "code",
   "execution_count": 7,
   "metadata": {},
   "outputs": [],
   "source": [
    "productos.rename(columns={'id': 'product_id'}, inplace=True)"
   ]
  },
  {
   "cell_type": "code",
   "execution_count": 8,
   "metadata": {},
   "outputs": [],
   "source": [
    "productos.to_csv('productos.csv', index=False)"
   ]
  },
  {
   "attachments": {},
   "cell_type": "markdown",
   "metadata": {},
   "source": [
    "# EDA Solo Plataformas"
   ]
  },
  {
   "cell_type": "code",
   "execution_count": 9,
   "metadata": {},
   "outputs": [],
   "source": [
    "import requests\n",
    "import pandas as pd\n",
    "import json\n",
    "data = pd.read_csv('datos.csv')                     # Levantar la tabla guardada\n",
    "productos = pd.read_csv('productos.csv')                     # Levantar la tabla guardada"
   ]
  },
  {
   "cell_type": "code",
   "execution_count": 10,
   "metadata": {},
   "outputs": [],
   "source": [
    "# Eliminar columnas inútiles\n",
    "data.drop(['version',\n",
    "       'order_key', 'billing', 'shipping',\n",
    "       'payment_method', 'transaction_id',\n",
    "       'customer_ip_address', 'customer_user_agent', 'created_via',\n",
    "       'customer_note', 'date_completed', 'cart_hash', 'number',\n",
    "       'meta_data', 'tax_lines', 'shipping_lines', 'fee_lines', 'coupon_lines',\n",
    "       'refunds', 'payment_url', 'is_editable', 'needs_payment',\n",
    "       'needs_processing', 'date_created_gmt', 'date_modified_gmt',\n",
    "       'date_completed_gmt', 'date_paid_gmt', 'currency_symbol',\n",
    "       'multiple_payment_methods', 'pos_payment_details',\n",
    "       '_links', 'taxes', 'meta_data.1', 'sku', 'price', 'image', 'parent_name',\n",
    "       'yithPosImage','yith_pos_data'], axis=1, inplace=True)\n"
   ]
  },
  {
   "cell_type": "code",
   "execution_count": 11,
   "metadata": {},
   "outputs": [],
   "source": [
    "# Reformatear las fechas\n",
    "import pandas as pd\n",
    "from datetime import datetime\n",
    "\n",
    "# Convertir la columna date_created en un objeto datetime\n",
    "data['date_created'] = pd.to_datetime(data['date_created'])\n",
    "data['date_modified'] = pd.to_datetime(data['date_modified'])\n",
    "data['date_paid'] = pd.to_datetime(data['date_paid'])"
   ]
  },
  {
   "cell_type": "code",
   "execution_count": 12,
   "metadata": {},
   "outputs": [],
   "source": [
    "# Formatear la columna date_created en YYYY-MM-DD\n",
    "data['date_created'] = data['date_created'].apply(lambda x: datetime.strftime(x, '%Y-%m-%d'))\n",
    "data['date_modified'] = data['date_modified'].apply(lambda x: datetime.strftime(x, '%Y-%m-%d'))\n",
    "#data['date_paid'] = data['date_paid'].apply(lambda x: datetime.strftime(x, '%Y-%m-%d'))"
   ]
  },
  {
   "cell_type": "code",
   "execution_count": 13,
   "metadata": {},
   "outputs": [],
   "source": [
    "# Reformatear las fechas\n",
    "import pandas as pd\n",
    "from datetime import datetime\n",
    "\n",
    "# Convertir la columna date_created en un objeto datetime\n",
    "productos['date_created'] = pd.to_datetime(productos['date_created'])\n",
    "productos['date_modified'] = pd.to_datetime(productos['date_modified'])\n",
    "\n",
    "# Formatear la columna date_created en YYYY-MM-DD\n",
    "productos['date_created'] = productos['date_created'].apply(lambda x: datetime.strftime(x, '%Y-%m-%d'))\n",
    "productos['date_modified'] = productos['date_modified'].apply(lambda x: datetime.strftime(x, '%Y-%m-%d'))"
   ]
  },
  {
   "attachments": {},
   "cell_type": "markdown",
   "metadata": {},
   "source": [
    "# 'PLATAFORMAS'"
   ]
  },
  {
   "cell_type": "code",
   "execution_count": 14,
   "metadata": {},
   "outputs": [
    {
     "data": {
      "text/plain": [
       "(3761, 32)"
      ]
     },
     "execution_count": 14,
     "metadata": {},
     "output_type": "execute_result"
    }
   ],
   "source": [
    "data['register_name'] = data['register_name'].fillna('') # Rellenar valores faltantes con cadena vacía\n",
    "df_mkp = data[data['register_name'].str.contains('Caja 2')]\n",
    "df_mkp.shape\n"
   ]
  },
  {
   "cell_type": "code",
   "execution_count": 15,
   "metadata": {},
   "outputs": [],
   "source": [
    "# Concatenar tablas\n",
    "data_mkp=pd.merge(df_mkp, productos, on='product_id')"
   ]
  },
  {
   "attachments": {},
   "cell_type": "markdown",
   "metadata": {},
   "source": [
    "### Rotación y última venta"
   ]
  },
  {
   "attachments": {},
   "cell_type": "markdown",
   "metadata": {},
   "source": [
    "    primera venta"
   ]
  },
  {
   "cell_type": "code",
   "execution_count": 16,
   "metadata": {},
   "outputs": [
    {
     "name": "stdout",
     "output_type": "stream",
     "text": [
      "(246, 2)\n",
      "(246, 2)\n"
     ]
    }
   ],
   "source": [
    "# Primera venta desde su lanzamiento\n",
    "primer_venta=data_mkp.copy()\n",
    "# Se agrupa por id_producto y se aplica la función de agregación min() a la columna venta\n",
    "FV_fecha_venta= primer_venta.groupby('product_id')['date_created_x'].agg(min).reset_index(name='Fecha_Primera_Venta')\n",
    "print(FV_fecha_venta.shape)\n",
    "FV_fecha_Creacion= primer_venta.groupby('product_id')['date_created_y'].agg(min).reset_index(name='Fecha_Creacion_producto')\n",
    "print(FV_fecha_Creacion.shape)\n",
    "# Unir los dataframe resultantes\n",
    "primer_venta_fechas=pd.merge(FV_fecha_venta, FV_fecha_Creacion, on='product_id')"
   ]
  },
  {
   "cell_type": "code",
   "execution_count": 17,
   "metadata": {},
   "outputs": [],
   "source": [
    "from datetime import datetime\n",
    "\n",
    "# Convertir la columna date_created en un objeto datetime\n",
    "primer_venta_fechas['Fecha_Primera_Venta'] = pd.to_datetime(primer_venta_fechas['Fecha_Primera_Venta'])\n",
    "primer_venta_fechas['Fecha_Creacion_producto'] = pd.to_datetime(primer_venta_fechas['Fecha_Creacion_producto'])"
   ]
  },
  {
   "cell_type": "code",
   "execution_count": 20,
   "metadata": {},
   "outputs": [
    {
     "data": {
      "text/html": [
       "<div>\n",
       "<style scoped>\n",
       "    .dataframe tbody tr th:only-of-type {\n",
       "        vertical-align: middle;\n",
       "    }\n",
       "\n",
       "    .dataframe tbody tr th {\n",
       "        vertical-align: top;\n",
       "    }\n",
       "\n",
       "    .dataframe thead th {\n",
       "        text-align: right;\n",
       "    }\n",
       "</style>\n",
       "<table border=\"1\" class=\"dataframe\">\n",
       "  <thead>\n",
       "    <tr style=\"text-align: right;\">\n",
       "      <th></th>\n",
       "      <th>product_id</th>\n",
       "      <th>Fecha_Primera_Venta</th>\n",
       "      <th>Fecha_Creacion_producto</th>\n",
       "      <th>tiempo_hasta_primera_venta</th>\n",
       "      <th>diferencia_en_dias</th>\n",
       "    </tr>\n",
       "  </thead>\n",
       "  <tbody>\n",
       "    <tr>\n",
       "      <th>214</th>\n",
       "      <td>44381</td>\n",
       "      <td>2023-01-16</td>\n",
       "      <td>2023-01-16</td>\n",
       "      <td>0</td>\n",
       "      <td>0</td>\n",
       "    </tr>\n",
       "    <tr>\n",
       "      <th>205</th>\n",
       "      <td>44170</td>\n",
       "      <td>2023-01-11</td>\n",
       "      <td>2023-01-11</td>\n",
       "      <td>0</td>\n",
       "      <td>0</td>\n",
       "    </tr>\n",
       "    <tr>\n",
       "      <th>169</th>\n",
       "      <td>41666</td>\n",
       "      <td>2022-11-07</td>\n",
       "      <td>2022-11-07</td>\n",
       "      <td>0</td>\n",
       "      <td>0</td>\n",
       "    </tr>\n",
       "    <tr>\n",
       "      <th>204</th>\n",
       "      <td>44107</td>\n",
       "      <td>2023-01-10</td>\n",
       "      <td>2023-01-10</td>\n",
       "      <td>0</td>\n",
       "      <td>0</td>\n",
       "    </tr>\n",
       "    <tr>\n",
       "      <th>159</th>\n",
       "      <td>41196</td>\n",
       "      <td>2022-10-20</td>\n",
       "      <td>2022-10-20</td>\n",
       "      <td>0</td>\n",
       "      <td>0</td>\n",
       "    </tr>\n",
       "    <tr>\n",
       "      <th>203</th>\n",
       "      <td>44094</td>\n",
       "      <td>2023-01-10</td>\n",
       "      <td>2023-01-10</td>\n",
       "      <td>0</td>\n",
       "      <td>0</td>\n",
       "    </tr>\n",
       "    <tr>\n",
       "      <th>210</th>\n",
       "      <td>44273</td>\n",
       "      <td>2023-01-14</td>\n",
       "      <td>2023-01-14</td>\n",
       "      <td>0</td>\n",
       "      <td>0</td>\n",
       "    </tr>\n",
       "    <tr>\n",
       "      <th>128</th>\n",
       "      <td>38857</td>\n",
       "      <td>2022-06-30</td>\n",
       "      <td>2022-06-30</td>\n",
       "      <td>0</td>\n",
       "      <td>0</td>\n",
       "    </tr>\n",
       "    <tr>\n",
       "      <th>180</th>\n",
       "      <td>42837</td>\n",
       "      <td>2022-12-09</td>\n",
       "      <td>2022-12-09</td>\n",
       "      <td>0</td>\n",
       "      <td>0</td>\n",
       "    </tr>\n",
       "    <tr>\n",
       "      <th>107</th>\n",
       "      <td>36924</td>\n",
       "      <td>2022-04-27</td>\n",
       "      <td>2022-04-27</td>\n",
       "      <td>0</td>\n",
       "      <td>0</td>\n",
       "    </tr>\n",
       "  </tbody>\n",
       "</table>\n",
       "</div>"
      ],
      "text/plain": [
       "     product_id Fecha_Primera_Venta Fecha_Creacion_producto  \\\n",
       "214       44381          2023-01-16              2023-01-16   \n",
       "205       44170          2023-01-11              2023-01-11   \n",
       "169       41666          2022-11-07              2022-11-07   \n",
       "204       44107          2023-01-10              2023-01-10   \n",
       "159       41196          2022-10-20              2022-10-20   \n",
       "203       44094          2023-01-10              2023-01-10   \n",
       "210       44273          2023-01-14              2023-01-14   \n",
       "128       38857          2022-06-30              2022-06-30   \n",
       "180       42837          2022-12-09              2022-12-09   \n",
       "107       36924          2022-04-27              2022-04-27   \n",
       "\n",
       "     tiempo_hasta_primera_venta  diferencia_en_dias  \n",
       "214                           0                   0  \n",
       "205                           0                   0  \n",
       "169                           0                   0  \n",
       "204                           0                   0  \n",
       "159                           0                   0  \n",
       "203                           0                   0  \n",
       "210                           0                   0  \n",
       "128                           0                   0  \n",
       "180                           0                   0  \n",
       "107                           0                   0  "
      ]
     },
     "execution_count": 20,
     "metadata": {},
     "output_type": "execute_result"
    }
   ],
   "source": [
    "primer_venta_fechas['diferencia_en_dias'] = (primer_venta_fechas['Fecha_Primera_Venta'] - primer_venta_fechas['Fecha_Creacion_producto']).dt.days\n",
    "primer_venta_fechas_sorted=primer_venta_fechas.sort_values('diferencia_en_dias', ascending=True)\n",
    "primer_venta_fechas_sorted.head(10)"
   ]
  },
  {
   "cell_type": "code",
   "execution_count": 21,
   "metadata": {},
   "outputs": [],
   "source": [
    "# Eliminar columnas inútiles\n",
    "primer_venta_fechas_sorted.drop(['Fecha_Primera_Venta', 'Fecha_Creacion_producto'], axis=1, inplace=True)"
   ]
  },
  {
   "attachments": {},
   "cell_type": "markdown",
   "metadata": {},
   "source": [
    "    última venta"
   ]
  },
  {
   "cell_type": "code",
   "execution_count": 22,
   "metadata": {},
   "outputs": [
    {
     "name": "stdout",
     "output_type": "stream",
     "text": [
      "(246, 2)\n",
      "(246, 2)\n"
     ]
    }
   ],
   "source": [
    "# Primera venta desde su lanzamiento\n",
    "ultima_venta=data_mkp.copy()\n",
    "# Se agrupa por id_producto y se aplica la función de agregación min() a la columna venta\n",
    "UV_fecha_venta= ultima_venta.groupby('product_id')['date_created_x'].agg(min).reset_index(name='Fecha_Primera_Venta')\n",
    "print(FV_fecha_venta.shape)\n",
    "\n",
    "FV_fecha_Creacion= ultima_venta.groupby('product_id')['date_created_y'].agg(min).reset_index(name='Fecha_Creacion_producto')\n",
    "print(FV_fecha_Creacion.shape)\n",
    "# Unir los dataframe resultantes\n",
    "primer_venta_fechas=pd.merge(FV_fecha_venta, FV_fecha_Creacion, on='product_id')"
   ]
  },
  {
   "cell_type": "code",
   "execution_count": 23,
   "metadata": {},
   "outputs": [],
   "source": [
    "from datetime import datetime\n",
    "\n",
    "# Convertir la columna date_created en un objeto datetime\n",
    "primer_venta_fechas['Fecha_Primera_Venta'] = pd.to_datetime(primer_venta_fechas['Fecha_Primera_Venta'])\n",
    "primer_venta_fechas['Fecha_Creacion_producto'] = pd.to_datetime(primer_venta_fechas['Fecha_Creacion_producto'])"
   ]
  },
  {
   "cell_type": "code",
   "execution_count": 25,
   "metadata": {},
   "outputs": [
    {
     "data": {
      "text/html": [
       "<div>\n",
       "<style scoped>\n",
       "    .dataframe tbody tr th:only-of-type {\n",
       "        vertical-align: middle;\n",
       "    }\n",
       "\n",
       "    .dataframe tbody tr th {\n",
       "        vertical-align: top;\n",
       "    }\n",
       "\n",
       "    .dataframe thead th {\n",
       "        text-align: right;\n",
       "    }\n",
       "</style>\n",
       "<table border=\"1\" class=\"dataframe\">\n",
       "  <thead>\n",
       "    <tr style=\"text-align: right;\">\n",
       "      <th></th>\n",
       "      <th>product_id</th>\n",
       "      <th>Fecha_Primera_Venta</th>\n",
       "      <th>Fecha_Creacion_producto</th>\n",
       "      <th>tiempo_hasta_primera_venta</th>\n",
       "      <th>diferencia_en_dias</th>\n",
       "    </tr>\n",
       "  </thead>\n",
       "  <tbody>\n",
       "    <tr>\n",
       "      <th>214</th>\n",
       "      <td>44381</td>\n",
       "      <td>2023-01-16</td>\n",
       "      <td>2023-01-16</td>\n",
       "      <td>0</td>\n",
       "      <td>0</td>\n",
       "    </tr>\n",
       "    <tr>\n",
       "      <th>205</th>\n",
       "      <td>44170</td>\n",
       "      <td>2023-01-11</td>\n",
       "      <td>2023-01-11</td>\n",
       "      <td>0</td>\n",
       "      <td>0</td>\n",
       "    </tr>\n",
       "    <tr>\n",
       "      <th>169</th>\n",
       "      <td>41666</td>\n",
       "      <td>2022-11-07</td>\n",
       "      <td>2022-11-07</td>\n",
       "      <td>0</td>\n",
       "      <td>0</td>\n",
       "    </tr>\n",
       "    <tr>\n",
       "      <th>204</th>\n",
       "      <td>44107</td>\n",
       "      <td>2023-01-10</td>\n",
       "      <td>2023-01-10</td>\n",
       "      <td>0</td>\n",
       "      <td>0</td>\n",
       "    </tr>\n",
       "    <tr>\n",
       "      <th>159</th>\n",
       "      <td>41196</td>\n",
       "      <td>2022-10-20</td>\n",
       "      <td>2022-10-20</td>\n",
       "      <td>0</td>\n",
       "      <td>0</td>\n",
       "    </tr>\n",
       "    <tr>\n",
       "      <th>203</th>\n",
       "      <td>44094</td>\n",
       "      <td>2023-01-10</td>\n",
       "      <td>2023-01-10</td>\n",
       "      <td>0</td>\n",
       "      <td>0</td>\n",
       "    </tr>\n",
       "    <tr>\n",
       "      <th>210</th>\n",
       "      <td>44273</td>\n",
       "      <td>2023-01-14</td>\n",
       "      <td>2023-01-14</td>\n",
       "      <td>0</td>\n",
       "      <td>0</td>\n",
       "    </tr>\n",
       "    <tr>\n",
       "      <th>128</th>\n",
       "      <td>38857</td>\n",
       "      <td>2022-06-30</td>\n",
       "      <td>2022-06-30</td>\n",
       "      <td>0</td>\n",
       "      <td>0</td>\n",
       "    </tr>\n",
       "    <tr>\n",
       "      <th>180</th>\n",
       "      <td>42837</td>\n",
       "      <td>2022-12-09</td>\n",
       "      <td>2022-12-09</td>\n",
       "      <td>0</td>\n",
       "      <td>0</td>\n",
       "    </tr>\n",
       "    <tr>\n",
       "      <th>107</th>\n",
       "      <td>36924</td>\n",
       "      <td>2022-04-27</td>\n",
       "      <td>2022-04-27</td>\n",
       "      <td>0</td>\n",
       "      <td>0</td>\n",
       "    </tr>\n",
       "  </tbody>\n",
       "</table>\n",
       "</div>"
      ],
      "text/plain": [
       "     product_id Fecha_Primera_Venta Fecha_Creacion_producto  \\\n",
       "214       44381          2023-01-16              2023-01-16   \n",
       "205       44170          2023-01-11              2023-01-11   \n",
       "169       41666          2022-11-07              2022-11-07   \n",
       "204       44107          2023-01-10              2023-01-10   \n",
       "159       41196          2022-10-20              2022-10-20   \n",
       "203       44094          2023-01-10              2023-01-10   \n",
       "210       44273          2023-01-14              2023-01-14   \n",
       "128       38857          2022-06-30              2022-06-30   \n",
       "180       42837          2022-12-09              2022-12-09   \n",
       "107       36924          2022-04-27              2022-04-27   \n",
       "\n",
       "     tiempo_hasta_primera_venta  diferencia_en_dias  \n",
       "214                           0                   0  \n",
       "205                           0                   0  \n",
       "169                           0                   0  \n",
       "204                           0                   0  \n",
       "159                           0                   0  \n",
       "203                           0                   0  \n",
       "210                           0                   0  \n",
       "128                           0                   0  \n",
       "180                           0                   0  \n",
       "107                           0                   0  "
      ]
     },
     "execution_count": 25,
     "metadata": {},
     "output_type": "execute_result"
    }
   ],
   "source": [
    "primer_venta_fechas['diferencia_en_dias'] = (primer_venta_fechas['Fecha_Primera_Venta'] - primer_venta_fechas['Fecha_Creacion_producto']).dt.days\n",
    "primer_venta_fechas_sorted=primer_venta_fechas.sort_values('diferencia_en_dias', ascending=True)\n",
    "primer_venta_fechas_sorted.head(10)"
   ]
  },
  {
   "cell_type": "code",
   "execution_count": 26,
   "metadata": {},
   "outputs": [],
   "source": [
    "# Eliminar columnas inútiles\n",
    "primer_venta_fechas_sorted.drop(['Fecha_Primera_Venta', 'Fecha_Creacion_producto'], axis=1, inplace=True)"
   ]
  },
  {
   "cell_type": "code",
   "execution_count": 27,
   "metadata": {},
   "outputs": [
    {
     "ename": "NameError",
     "evalue": "name 'tiempo_desde_ultima_venta' is not defined",
     "output_type": "error",
     "traceback": [
      "\u001b[1;31m---------------------------------------------------------------------------\u001b[0m",
      "\u001b[1;31mNameError\u001b[0m                                 Traceback (most recent call last)",
      "\u001b[1;32me:\\sharwinn\\Gestión\\Python Sharwinn\\WC Ventas Sharwinn.ipynb Celda 30\u001b[0m in \u001b[0;36m1\n\u001b[1;32m----> <a href='vscode-notebook-cell:/e%3A/sharwinn/Gesti%C3%B3n/Python%20Sharwinn/WC%20Ventas%20Sharwinn.ipynb#X40sZmlsZQ%3D%3D?line=0'>1</a>\u001b[0m tiempo_desde_ultima_venta\n",
      "\u001b[1;31mNameError\u001b[0m: name 'tiempo_desde_ultima_venta' is not defined"
     ]
    }
   ],
   "source": [
    "tiempo_desde_ultima_venta\n"
   ]
  },
  {
   "attachments": {},
   "cell_type": "markdown",
   "metadata": {},
   "source": [
    "    Unión"
   ]
  },
  {
   "cell_type": "code",
   "execution_count": null,
   "metadata": {},
   "outputs": [],
   "source": [
    "primer_ultima_venta=pd.merge(primer_venta_fechas_sorted, , on='product_id')"
   ]
  },
  {
   "cell_type": "code",
   "execution_count": null,
   "metadata": {},
   "outputs": [],
   "source": [
    "\n",
    "# Agreamos los nombres de los productos\n",
    "primer_ultima_venta[\"nombre_producto\"]=data_mkp[\"name_y\"]\n",
    "# Agreamos la Categoría\n",
    "primer_ultima_venta[\"categoria\"]=data_mkp[\"name_y\"]\n",
    "# Agreamos cantidad vendida\n",
    "primer_ultima_venta[\"costo\"]=data_mkp[\"name_y\"]\n",
    "# Agreamos stock\n",
    "primer_ultima_venta[\"stock\"]=data_mkp[\"name_y\"]\n",
    "# Agreamos Precio\n",
    "primer_ultima_venta[\"precio_venta\"]=data_mkp[\"name_y\"]\n",
    "# Agreamos nombre de plataforma\n",
    "primer_ultima_venta[\"plataforma\"]=data_mkp[\"name_y\"]"
   ]
  },
  {
   "attachments": {},
   "cell_type": "markdown",
   "metadata": {},
   "source": [
    "    Más vendidos"
   ]
  },
  {
   "cell_type": "code",
   "execution_count": null,
   "metadata": {},
   "outputs": [
    {
     "data": {
      "text/html": [
       "<div>\n",
       "<style scoped>\n",
       "    .dataframe tbody tr th:only-of-type {\n",
       "        vertical-align: middle;\n",
       "    }\n",
       "\n",
       "    .dataframe tbody tr th {\n",
       "        vertical-align: top;\n",
       "    }\n",
       "\n",
       "    .dataframe thead th {\n",
       "        text-align: right;\n",
       "    }\n",
       "</style>\n",
       "<table border=\"1\" class=\"dataframe\">\n",
       "  <thead>\n",
       "    <tr style=\"text-align: right;\">\n",
       "      <th></th>\n",
       "      <th>product_id</th>\n",
       "      <th>quantity_sold</th>\n",
       "    </tr>\n",
       "  </thead>\n",
       "  <tbody>\n",
       "    <tr>\n",
       "      <th>44</th>\n",
       "      <td>33646</td>\n",
       "      <td>316</td>\n",
       "    </tr>\n",
       "    <tr>\n",
       "      <th>108</th>\n",
       "      <td>36942</td>\n",
       "      <td>311</td>\n",
       "    </tr>\n",
       "    <tr>\n",
       "      <th>143</th>\n",
       "      <td>40165</td>\n",
       "      <td>292</td>\n",
       "    </tr>\n",
       "    <tr>\n",
       "      <th>147</th>\n",
       "      <td>40506</td>\n",
       "      <td>289</td>\n",
       "    </tr>\n",
       "    <tr>\n",
       "      <th>55</th>\n",
       "      <td>34060</td>\n",
       "      <td>249</td>\n",
       "    </tr>\n",
       "    <tr>\n",
       "      <th>15</th>\n",
       "      <td>31890</td>\n",
       "      <td>231</td>\n",
       "    </tr>\n",
       "    <tr>\n",
       "      <th>142</th>\n",
       "      <td>40152</td>\n",
       "      <td>223</td>\n",
       "    </tr>\n",
       "    <tr>\n",
       "      <th>130</th>\n",
       "      <td>39018</td>\n",
       "      <td>198</td>\n",
       "    </tr>\n",
       "    <tr>\n",
       "      <th>139</th>\n",
       "      <td>39675</td>\n",
       "      <td>175</td>\n",
       "    </tr>\n",
       "    <tr>\n",
       "      <th>19</th>\n",
       "      <td>31998</td>\n",
       "      <td>162</td>\n",
       "    </tr>\n",
       "  </tbody>\n",
       "</table>\n",
       "</div>"
      ],
      "text/plain": [
       "     product_id  quantity_sold\n",
       "44        33646            316\n",
       "108       36942            311\n",
       "143       40165            292\n",
       "147       40506            289\n",
       "55        34060            249\n",
       "15        31890            231\n",
       "142       40152            223\n",
       "130       39018            198\n",
       "139       39675            175\n",
       "19        31998            162"
      ]
     },
     "execution_count": 65,
     "metadata": {},
     "output_type": "execute_result"
    }
   ],
   "source": [
    "sales_by_product = data_mkp.groupby('product_id')['quantity'].sum().reset_index(name='quantity_sold')\n",
    "sales_by_product_sorted=sales_by_product.sort_values('quantity_sold', ascending=False)\n",
    "sales_by_product_sorted.head(10)\n"
   ]
  }
 ],
 "metadata": {
  "kernelspec": {
   "display_name": "Python 3",
   "language": "python",
   "name": "python3"
  },
  "language_info": {
   "codemirror_mode": {
    "name": "ipython",
    "version": 3
   },
   "file_extension": ".py",
   "mimetype": "text/x-python",
   "name": "python",
   "nbconvert_exporter": "python",
   "pygments_lexer": "ipython3",
   "version": "3.10.7"
  },
  "orig_nbformat": 4,
  "vscode": {
   "interpreter": {
    "hash": "fb4569285eef3a3450cb62085a5b1e0da4bce0af555edc33dcf29baf3acc1368"
   }
  }
 },
 "nbformat": 4,
 "nbformat_minor": 2
}
